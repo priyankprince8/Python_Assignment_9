{
  "nbformat": 4,
  "nbformat_minor": 0,
  "metadata": {
    "colab": {
      "provenance": []
    },
    "kernelspec": {
      "name": "python3",
      "display_name": "Python 3"
    },
    "language_info": {
      "name": "python"
    }
  },
  "cells": [
    {
      "cell_type": "code",
      "execution_count": 1,
      "metadata": {
        "id": "ZaFKiNC23bf3"
      },
      "outputs": [],
      "source": [
        "#1. To what does a relative path refer?\n",
        "#Relative paths are relative to the current working directory."
      ]
    },
    {
      "cell_type": "code",
      "source": [
        "#2. What does an absolute path start with your operating system?\n",
        "#Absolute paths start with the root folder, such as / or C:. An absolute path always contains the root elements and the complete list of directories to locate the specific file or folder. All the information required to locate the file or folder is available in the absolute path."
      ],
      "metadata": {
        "id": "fd9_V8_u4j9y"
      },
      "execution_count": 2,
      "outputs": []
    },
    {
      "cell_type": "code",
      "source": [
        "#3. What do the functions os.getcwd() and os.chdir() do?\n",
        "#The os.getcwd() function returns the current working directory. The os.chdir() function changes the current working directory"
      ],
      "metadata": {
        "id": "mZs7O3Jf4wCa"
      },
      "execution_count": 3,
      "outputs": []
    },
    {
      "cell_type": "code",
      "source": [
        "#4. What are the . and .. folders?\n",
        "#The . folder is the current folder, and .. is the parent folder."
      ],
      "metadata": {
        "id": "tlvA_HP65IhM"
      },
      "execution_count": 4,
      "outputs": []
    },
    {
      "cell_type": "code",
      "source": [
        "#5. In C:\\bacon\\eggs\\spam.txt, which part is the dir name, and which part is the base name?\n",
        "#C:\\bacon\\eggs is the dir name, while spam.txt is the base name."
      ],
      "metadata": {
        "id": "CrKrN-ZR5P79"
      },
      "execution_count": 5,
      "outputs": []
    },
    {
      "cell_type": "code",
      "source": [
        "#6. What are the three “mode” arguments that can be passed to the open() function?\n",
        "#The string 'r' for read mode, 'w' for write mode, and 'a' for append mode"
      ],
      "metadata": {
        "id": "ZbxS8clY7at0"
      },
      "execution_count": 6,
      "outputs": []
    },
    {
      "cell_type": "code",
      "source": [
        "#7. What happens if an existing file is opened in write mode?\n",
        "#An existing file opened in write mode is erased and completely overwritten."
      ],
      "metadata": {
        "id": "VM7-6gzj7lb8"
      },
      "execution_count": 7,
      "outputs": []
    },
    {
      "cell_type": "code",
      "source": [
        "#8. How do you tell the difference between read() and readlines()?\n",
        "#The read() method returns the file's entire contents as a single string value. The readlines() method returns a list of strings, where each string is a line from the file's contents."
      ],
      "metadata": {
        "id": "ZKmqF2Fq8EiD"
      },
      "execution_count": 8,
      "outputs": []
    },
    {
      "cell_type": "code",
      "source": [
        "#9. What data structure does a shelf value resemble?\n",
        "#A shelf value resembles a dictionary value; it has keys and values, along with keys() and values() methods that work similarly to the dictionary methods of the same names."
      ],
      "metadata": {
        "id": "MkhhgGWc89U-"
      },
      "execution_count": 9,
      "outputs": []
    },
    {
      "cell_type": "code",
      "source": [],
      "metadata": {
        "id": "6KZRt8s09E0T"
      },
      "execution_count": null,
      "outputs": []
    }
  ]
}